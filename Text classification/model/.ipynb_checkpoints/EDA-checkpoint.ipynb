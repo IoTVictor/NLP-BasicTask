{
 "cells": [
  {
   "cell_type": "markdown",
   "metadata": {},
   "source": [
    "## 数据读取"
   ]
  },
  {
   "cell_type": "code",
   "execution_count": 1,
   "metadata": {
    "scrolled": true
   },
   "outputs": [
    {
     "data": {
      "text/html": [
       "<div>\n",
       "<style scoped>\n",
       "    .dataframe tbody tr th:only-of-type {\n",
       "        vertical-align: middle;\n",
       "    }\n",
       "\n",
       "    .dataframe tbody tr th {\n",
       "        vertical-align: top;\n",
       "    }\n",
       "\n",
       "    .dataframe thead th {\n",
       "        text-align: right;\n",
       "    }\n",
       "</style>\n",
       "<table border=\"1\" class=\"dataframe\">\n",
       "  <thead>\n",
       "    <tr style=\"text-align: right;\">\n",
       "      <th></th>\n",
       "      <th>类别名字</th>\n",
       "      <th>文本数据</th>\n",
       "    </tr>\n",
       "  </thead>\n",
       "  <tbody>\n",
       "    <tr>\n",
       "      <th>0</th>\n",
       "      <td>娱乐</td>\n",
       "      <td>黎明喜当爹满面春风，乐基儿发福成大妈！离婚后两人差距这么大？</td>\n",
       "    </tr>\n",
       "    <tr>\n",
       "      <th>1</th>\n",
       "      <td>旅游</td>\n",
       "      <td>亚洲排名第一都市，北京GDP不及它一半，上海10年都赶超不了</td>\n",
       "    </tr>\n",
       "    <tr>\n",
       "      <th>2</th>\n",
       "      <td>国际</td>\n",
       "      <td>悠仁：日本明仁天皇孙辈唯一男丁堪称“独苗”，将来可能继位</td>\n",
       "    </tr>\n",
       "    <tr>\n",
       "      <th>3</th>\n",
       "      <td>娱乐</td>\n",
       "      <td>被意大利炮干掉的阿部规秀到底是个什么官？</td>\n",
       "    </tr>\n",
       "    <tr>\n",
       "      <th>4</th>\n",
       "      <td>财经</td>\n",
       "      <td>公司亏损时，股东如何维护自己的利益？</td>\n",
       "    </tr>\n",
       "  </tbody>\n",
       "</table>\n",
       "</div>"
      ],
      "text/plain": [
       "  类别名字                            文本数据\n",
       "0   娱乐  黎明喜当爹满面春风，乐基儿发福成大妈！离婚后两人差距这么大？\n",
       "1   旅游  亚洲排名第一都市，北京GDP不及它一半，上海10年都赶超不了\n",
       "2   国际    悠仁：日本明仁天皇孙辈唯一男丁堪称“独苗”，将来可能继位\n",
       "3   娱乐            被意大利炮干掉的阿部规秀到底是个什么官？\n",
       "4   财经              公司亏损时，股东如何维护自己的利益？"
      ]
     },
     "execution_count": 1,
     "metadata": {},
     "output_type": "execute_result"
    }
   ],
   "source": [
    "%matplotlib inline\n",
    "import numpy as np\n",
    "import pandas as pd\n",
    "import sklearn\n",
    "import gensim\n",
    "from gensim.models import Word2Vec\n",
    "import matplotlib.pyplot as plt\n",
    "import jieba\n",
    "import matplotlib as mpl\n",
    "\n",
    "mpl.rcParams['font.sans-serif'] = ['SimHei']\n",
    "mpl.rcParams['font.serif'] = ['SimHei']\n",
    "\n",
    "data_path = \"../data/data.csv\"\n",
    "stopword_path = \"../data/stop_words.txt\"\n",
    "data = pd.read_csv(data_path)\n",
    "data.head()"
   ]
  },
  {
   "cell_type": "markdown",
   "metadata": {},
   "source": [
    "## 数据分布"
   ]
  },
  {
   "cell_type": "code",
   "execution_count": 2,
   "metadata": {},
   "outputs": [
    {
     "data": {
      "text/plain": [
       "<matplotlib.axes._subplots.AxesSubplot at 0x1a20f9dda0>"
      ]
     },
     "execution_count": 2,
     "metadata": {},
     "output_type": "execute_result"
    },
    {
     "name": "stderr",
     "output_type": "stream",
     "text": [
      "/Users/zu/anaconda3/lib/python3.7/site-packages/matplotlib/font_manager.py:1241: UserWarning: findfont: Font family ['sans-serif'] not found. Falling back to DejaVu Sans.\n",
      "  (prop.get_family(), self.defaultFamily[fontext]))\n"
     ]
    },
    {
     "data": {
      "image/png": "[encoded data removed]",
      "text/plain": [
       "<Figure size 1440x432 with 1 Axes>"
      ]
     },
     "metadata": {
      "needs_background": "light"
     },
     "output_type": "display_data"
    }
   ],
   "source": [
    "data_groupby = data.groupby([\"类别名字\"])[\"类别名字\"].count()\n",
    "data_groupby.plot.bar(stacked = True,figsize=(20,6))"
   ]
  },
  {
   "cell_type": "markdown",
   "metadata": {},
   "source": [
    "## 词性分析"
   ]
  },
  {
   "cell_type": "code",
   "execution_count": 4,
   "metadata": {},
   "outputs": [],
   "source": [
    "data = data.iloc[:2000]"
   ]
  },
  {
   "cell_type": "code",
   "execution_count": 5,
   "metadata": {},
   "outputs": [
    {
     "data": {
      "text/html": [
       "<div>\n",
       "<style scoped>\n",
       "    .dataframe tbody tr th:only-of-type {\n",
       "        vertical-align: middle;\n",
       "    }\n",
       "\n",
       "    .dataframe tbody tr th {\n",
       "        vertical-align: top;\n",
       "    }\n",
       "\n",
       "    .dataframe thead th {\n",
       "        text-align: right;\n",
       "    }\n",
       "</style>\n",
       "<table border=\"1\" class=\"dataframe\">\n",
       "  <thead>\n",
       "    <tr style=\"text-align: right;\">\n",
       "      <th></th>\n",
       "      <th>类别名字</th>\n",
       "      <th>文本数据</th>\n",
       "      <th>分词后的数据</th>\n",
       "      <th>词性信息</th>\n",
       "    </tr>\n",
       "  </thead>\n",
       "  <tbody>\n",
       "    <tr>\n",
       "      <th>0</th>\n",
       "      <td>娱乐</td>\n",
       "      <td>黎明喜当爹满面春风，乐基儿发福成大妈！离婚后两人差距这么大？</td>\n",
       "      <td>[黎明, 喜当爹, 满面春风, 乐基儿, 发福, 成, 大妈, 离婚, 两人, 差距, 大]</td>\n",
       "      <td>[nr, v, n, nz, nr, vn, n, n, v, m, n, n, a]</td>\n",
       "    </tr>\n",
       "    <tr>\n",
       "      <th>1</th>\n",
       "      <td>旅游</td>\n",
       "      <td>亚洲排名第一都市，北京GDP不及它一半，上海10年都赶超不了</td>\n",
       "      <td>[亚洲, 排名, 第一, 都市, 北京, GDP, 不及, 它, 一半, 上海, 10, 年...</td>\n",
       "      <td>[ns, v, m, ns, ns, eng, c, r, m, ns, m, m, d, ...</td>\n",
       "    </tr>\n",
       "    <tr>\n",
       "      <th>2</th>\n",
       "      <td>国际</td>\n",
       "      <td>悠仁：日本明仁天皇孙辈唯一男丁堪称“独苗”，将来可能继位</td>\n",
       "      <td>[悠仁, 日本, 明, 仁天皇, 孙辈, 唯一, 男丁, 堪称, 独苗, 将来, 可能, 继位]</td>\n",
       "      <td>[a, ns, a, nr, nr, n, b, n, v, n, t, v, v]</td>\n",
       "    </tr>\n",
       "    <tr>\n",
       "      <th>3</th>\n",
       "      <td>娱乐</td>\n",
       "      <td>被意大利炮干掉的阿部规秀到底是个什么官？</td>\n",
       "      <td>[被, 意大利, 炮, 干掉, 阿部规秀, 到底, 是, 个, 什么, 官]</td>\n",
       "      <td>[p, ns, n, v, nr, d, v, q, r, n]</td>\n",
       "    </tr>\n",
       "    <tr>\n",
       "      <th>4</th>\n",
       "      <td>财经</td>\n",
       "      <td>公司亏损时，股东如何维护自己的利益？</td>\n",
       "      <td>[公司, 亏损, 时, 股东, 如何, 维护, 自己, 利益]</td>\n",
       "      <td>[n, vn, n, n, r, v, r, n]</td>\n",
       "    </tr>\n",
       "  </tbody>\n",
       "</table>\n",
       "</div>"
      ],
      "text/plain": [
       "  类别名字                            文本数据  \\\n",
       "0   娱乐  黎明喜当爹满面春风，乐基儿发福成大妈！离婚后两人差距这么大？   \n",
       "1   旅游  亚洲排名第一都市，北京GDP不及它一半，上海10年都赶超不了   \n",
       "2   国际    悠仁：日本明仁天皇孙辈唯一男丁堪称“独苗”，将来可能继位   \n",
       "3   娱乐            被意大利炮干掉的阿部规秀到底是个什么官？   \n",
       "4   财经              公司亏损时，股东如何维护自己的利益？   \n",
       "\n",
       "                                              分词后的数据  \\\n",
       "0     [黎明, 喜当爹, 满面春风, 乐基儿, 发福, 成, 大妈, 离婚, 两人, 差距, 大]   \n",
       "1  [亚洲, 排名, 第一, 都市, 北京, GDP, 不及, 它, 一半, 上海, 10, 年...   \n",
       "2   [悠仁, 日本, 明, 仁天皇, 孙辈, 唯一, 男丁, 堪称, 独苗, 将来, 可能, 继位]   \n",
       "3             [被, 意大利, 炮, 干掉, 阿部规秀, 到底, 是, 个, 什么, 官]   \n",
       "4                    [公司, 亏损, 时, 股东, 如何, 维护, 自己, 利益]   \n",
       "\n",
       "                                                词性信息  \n",
       "0        [nr, v, n, nz, nr, vn, n, n, v, m, n, n, a]  \n",
       "1  [ns, v, m, ns, ns, eng, c, r, m, ns, m, m, d, ...  \n",
       "2         [a, ns, a, nr, nr, n, b, n, v, n, t, v, v]  \n",
       "3                   [p, ns, n, v, nr, d, v, q, r, n]  \n",
       "4                          [n, vn, n, n, r, v, r, n]  "
      ]
     },
     "execution_count": 5,
     "metadata": {},
     "output_type": "execute_result"
    }
   ],
   "source": [
    "import jieba.posseg as pseg\n",
    "\n",
    "with open(stopword_path,\"r\",encoding=\"utf-8\") as f:\n",
    "    stopwords = f.readlines()\n",
    "stopwords = [i.strip() for i in stopwords]\n",
    "\n",
    "def get_pos(data):\n",
    "    a = pseg.cut(data)\n",
    "    temp = []\n",
    "    for i in a:\n",
    "        if i.word not in stopwords:\n",
    "            temp.append(i.flag)\n",
    "    return temp\n",
    "def seg_data(data):\n",
    "    a = jieba.cut(data)\n",
    "    a = [i for i in a if i not in stopwords]\n",
    "    return list(a)\n",
    "data[\"分词后的数据\"] = data[\"文本数据\"].apply(seg_data)\n",
    "data[\"词性信息\"] = data[\"文本数据\"].apply(get_pos)\n",
    "data.head()"
   ]
  },
  {
   "cell_type": "code",
   "execution_count": 6,
   "metadata": {},
   "outputs": [],
   "source": [
    "def count_noun(data):\n",
    "    num = 0\n",
    "    for i in data:\n",
    "        if \"n\" in i:\n",
    "            num += 1\n",
    "    return num"
   ]
  },
  {
   "cell_type": "code",
   "execution_count": 7,
   "metadata": {},
   "outputs": [],
   "source": [
    "def count_verb(data):\n",
    "    num = 0\n",
    "    for i in data:\n",
    "        if \"v\" in i:\n",
    "            num += 1\n",
    "    return num"
   ]
  },
  {
   "cell_type": "code",
   "execution_count": 8,
   "metadata": {},
   "outputs": [],
   "source": [
    "def count_adj(data):\n",
    "    num = 0\n",
    "    for i in data:\n",
    "        if \"a\" in i:\n",
    "            num += 1\n",
    "    return num"
   ]
  },
  {
   "cell_type": "code",
   "execution_count": 9,
   "metadata": {},
   "outputs": [
    {
     "data": {
      "text/html": [
       "<div>\n",
       "<style scoped>\n",
       "    .dataframe tbody tr th:only-of-type {\n",
       "        vertical-align: middle;\n",
       "    }\n",
       "\n",
       "    .dataframe tbody tr th {\n",
       "        vertical-align: top;\n",
       "    }\n",
       "\n",
       "    .dataframe thead th {\n",
       "        text-align: right;\n",
       "    }\n",
       "</style>\n",
       "<table border=\"1\" class=\"dataframe\">\n",
       "  <thead>\n",
       "    <tr style=\"text-align: right;\">\n",
       "      <th></th>\n",
       "      <th>类别名字</th>\n",
       "      <th>文本数据</th>\n",
       "      <th>分词后的数据</th>\n",
       "      <th>词性信息</th>\n",
       "      <th>名词数量</th>\n",
       "      <th>动词数量</th>\n",
       "      <th>形容词数量</th>\n",
       "    </tr>\n",
       "  </thead>\n",
       "  <tbody>\n",
       "    <tr>\n",
       "      <th>0</th>\n",
       "      <td>娱乐</td>\n",
       "      <td>黎明喜当爹满面春风，乐基儿发福成大妈！离婚后两人差距这么大？</td>\n",
       "      <td>[黎明, 喜当爹, 满面春风, 乐基儿, 发福, 成, 大妈, 离婚, 两人, 差距, 大]</td>\n",
       "      <td>[nr, v, n, nz, nr, vn, n, n, v, m, n, n, a]</td>\n",
       "      <td>9</td>\n",
       "      <td>3</td>\n",
       "      <td>1</td>\n",
       "    </tr>\n",
       "    <tr>\n",
       "      <th>1</th>\n",
       "      <td>旅游</td>\n",
       "      <td>亚洲排名第一都市，北京GDP不及它一半，上海10年都赶超不了</td>\n",
       "      <td>[亚洲, 排名, 第一, 都市, 北京, GDP, 不及, 它, 一半, 上海, 10, 年...</td>\n",
       "      <td>[ns, v, m, ns, ns, eng, c, r, m, ns, m, m, d, ...</td>\n",
       "      <td>5</td>\n",
       "      <td>3</td>\n",
       "      <td>0</td>\n",
       "    </tr>\n",
       "    <tr>\n",
       "      <th>2</th>\n",
       "      <td>国际</td>\n",
       "      <td>悠仁：日本明仁天皇孙辈唯一男丁堪称“独苗”，将来可能继位</td>\n",
       "      <td>[悠仁, 日本, 明, 仁天皇, 孙辈, 唯一, 男丁, 堪称, 独苗, 将来, 可能, 继位]</td>\n",
       "      <td>[a, ns, a, nr, nr, n, b, n, v, n, t, v, v]</td>\n",
       "      <td>6</td>\n",
       "      <td>3</td>\n",
       "      <td>2</td>\n",
       "    </tr>\n",
       "    <tr>\n",
       "      <th>3</th>\n",
       "      <td>娱乐</td>\n",
       "      <td>被意大利炮干掉的阿部规秀到底是个什么官？</td>\n",
       "      <td>[被, 意大利, 炮, 干掉, 阿部规秀, 到底, 是, 个, 什么, 官]</td>\n",
       "      <td>[p, ns, n, v, nr, d, v, q, r, n]</td>\n",
       "      <td>4</td>\n",
       "      <td>2</td>\n",
       "      <td>0</td>\n",
       "    </tr>\n",
       "    <tr>\n",
       "      <th>4</th>\n",
       "      <td>财经</td>\n",
       "      <td>公司亏损时，股东如何维护自己的利益？</td>\n",
       "      <td>[公司, 亏损, 时, 股东, 如何, 维护, 自己, 利益]</td>\n",
       "      <td>[n, vn, n, n, r, v, r, n]</td>\n",
       "      <td>5</td>\n",
       "      <td>2</td>\n",
       "      <td>0</td>\n",
       "    </tr>\n",
       "  </tbody>\n",
       "</table>\n",
       "</div>"
      ],
      "text/plain": [
       "  类别名字                            文本数据  \\\n",
       "0   娱乐  黎明喜当爹满面春风，乐基儿发福成大妈！离婚后两人差距这么大？   \n",
       "1   旅游  亚洲排名第一都市，北京GDP不及它一半，上海10年都赶超不了   \n",
       "2   国际    悠仁：日本明仁天皇孙辈唯一男丁堪称“独苗”，将来可能继位   \n",
       "3   娱乐            被意大利炮干掉的阿部规秀到底是个什么官？   \n",
       "4   财经              公司亏损时，股东如何维护自己的利益？   \n",
       "\n",
       "                                              分词后的数据  \\\n",
       "0     [黎明, 喜当爹, 满面春风, 乐基儿, 发福, 成, 大妈, 离婚, 两人, 差距, 大]   \n",
       "1  [亚洲, 排名, 第一, 都市, 北京, GDP, 不及, 它, 一半, 上海, 10, 年...   \n",
       "2   [悠仁, 日本, 明, 仁天皇, 孙辈, 唯一, 男丁, 堪称, 独苗, 将来, 可能, 继位]   \n",
       "3             [被, 意大利, 炮, 干掉, 阿部规秀, 到底, 是, 个, 什么, 官]   \n",
       "4                    [公司, 亏损, 时, 股东, 如何, 维护, 自己, 利益]   \n",
       "\n",
       "                                                词性信息  名词数量  动词数量  形容词数量  \n",
       "0        [nr, v, n, nz, nr, vn, n, n, v, m, n, n, a]     9     3      1  \n",
       "1  [ns, v, m, ns, ns, eng, c, r, m, ns, m, m, d, ...     5     3      0  \n",
       "2         [a, ns, a, nr, nr, n, b, n, v, n, t, v, v]     6     3      2  \n",
       "3                   [p, ns, n, v, nr, d, v, q, r, n]     4     2      0  \n",
       "4                          [n, vn, n, n, r, v, r, n]     5     2      0  "
      ]
     },
     "execution_count": 9,
     "metadata": {},
     "output_type": "execute_result"
    }
   ],
   "source": [
    "data[\"名词数量\"] = data[\"词性信息\"].apply(count_noun)\n",
    "data[\"动词数量\"] = data[\"词性信息\"].apply(count_verb)\n",
    "data[\"形容词数量\"] = data[\"词性信息\"].apply(count_adj)\n",
    "data.head()"
   ]
  },
  {
   "cell_type": "code",
   "execution_count": 10,
   "metadata": {
    "scrolled": false
   },
   "outputs": [
    {
     "data": {
      "image/png": "[encoded data removed]",
      "text/plain": [
       "<Figure size 432x288 with 4 Axes>"
      ]
     },
     "metadata": {
      "needs_background": "light"
     },
     "output_type": "display_data"
    }
   ],
   "source": [
    "data[[\"名词数量\",\"动词数量\",\"形容词数量\"]].hist(bins=10)\n",
    "plt.show()"
   ]
  },
  {
   "cell_type": "code",
   "execution_count": 11,
   "metadata": {},
   "outputs": [
    {
     "data": {
      "text/plain": [
       "<matplotlib.axes._subplots.AxesSubplot at 0x106ca9160>"
      ]
     },
     "execution_count": 11,
     "metadata": {},
     "output_type": "execute_result"
    },
    {
     "data": {
      "image/png": "[encoded data removed]",
      "text/plain": [
       "<Figure size 1440x432 with 1 Axes>"
      ]
     },
     "metadata": {
      "needs_background": "light"
     },
     "output_type": "display_data"
    }
   ],
   "source": [
    "data_groupby = data.groupby([\"类别名字\"])[\"名词数量\"].mean()\n",
    "data_groupby.plot.bar(stacked = True,figsize=(20,6))"
   ]
  },
  {
   "cell_type": "code",
   "execution_count": 21,
   "metadata": {},
   "outputs": [
    {
     "data": {
      "text/plain": [
       "<matplotlib.axes._subplots.AxesSubplot at 0x1a26fb8780>"
      ]
     },
     "execution_count": 21,
     "metadata": {},
     "output_type": "execute_result"
    },
    {
     "data": {
      "image/png": "[encoded data removed]",
      "text/plain": [
       "<Figure size 1440x432 with 1 Axes>"
      ]
     },
     "metadata": {
      "needs_background": "light"
     },
     "output_type": "display_data"
    }
   ],
   "source": [
    "data_groupby = data.groupby([\"类别名字\"])[\"动词数量\"].mean()\n",
    "data_groupby.plot.bar(stacked = True,figsize=(20,6))"
   ]
  },
  {
   "cell_type": "code",
   "execution_count": 14,
   "metadata": {},
   "outputs": [
    {
     "data": {
      "text/plain": [
       "<matplotlib.axes._subplots.AxesSubplot at 0x1a2b9120f0>"
      ]
     },
     "execution_count": 14,
     "metadata": {},
     "output_type": "execute_result"
    },
    {
     "data": {
      "image/png": "[encoded data removed]",
      "text/plain": [
       "<Figure size 1440x432 with 1 Axes>"
      ]
     },
     "metadata": {
      "needs_background": "light"
     },
     "output_type": "display_data"
    }
   ],
   "source": [
    "data_groupby = data.groupby([\"类别名字\"])[\"形容词数量\"].mean()\n",
    "data_groupby.plot.bar(stacked = True,figsize=(20,6))"
   ]
  },
  {
   "cell_type": "markdown",
   "metadata": {},
   "source": [
    "## 长度分析"
   ]
  },
  {
   "cell_type": "code",
   "execution_count": 15,
   "metadata": {},
   "outputs": [
    {
     "data": {
      "text/html": [
       "<div>\n",
       "<style scoped>\n",
       "    .dataframe tbody tr th:only-of-type {\n",
       "        vertical-align: middle;\n",
       "    }\n",
       "\n",
       "    .dataframe tbody tr th {\n",
       "        vertical-align: top;\n",
       "    }\n",
       "\n",
       "    .dataframe thead th {\n",
       "        text-align: right;\n",
       "    }\n",
       "</style>\n",
       "<table border=\"1\" class=\"dataframe\">\n",
       "  <thead>\n",
       "    <tr style=\"text-align: right;\">\n",
       "      <th></th>\n",
       "      <th>类别名字</th>\n",
       "      <th>文本数据</th>\n",
       "      <th>分词后的数据</th>\n",
       "      <th>词性信息</th>\n",
       "      <th>名词数量</th>\n",
       "      <th>动词数量</th>\n",
       "      <th>形容词数量</th>\n",
       "      <th>长度</th>\n",
       "    </tr>\n",
       "  </thead>\n",
       "  <tbody>\n",
       "    <tr>\n",
       "      <th>0</th>\n",
       "      <td>娱乐</td>\n",
       "      <td>黎明喜当爹满面春风，乐基儿发福成大妈！离婚后两人差距这么大？</td>\n",
       "      <td>[黎明, 喜当爹, 满面春风, 乐基儿, 发福, 成, 大妈, 离婚, 两人, 差距, 大]</td>\n",
       "      <td>[nr, v, n, nz, nr, vn, n, n, v, m, n, n, a]</td>\n",
       "      <td>9</td>\n",
       "      <td>3</td>\n",
       "      <td>1</td>\n",
       "      <td>11</td>\n",
       "    </tr>\n",
       "    <tr>\n",
       "      <th>1</th>\n",
       "      <td>旅游</td>\n",
       "      <td>亚洲排名第一都市，北京GDP不及它一半，上海10年都赶超不了</td>\n",
       "      <td>[亚洲, 排名, 第一, 都市, 北京, GDP, 不及, 它, 一半, 上海, 10, 年...</td>\n",
       "      <td>[ns, v, m, ns, ns, eng, c, r, m, ns, m, m, d, ...</td>\n",
       "      <td>5</td>\n",
       "      <td>3</td>\n",
       "      <td>0</td>\n",
       "      <td>15</td>\n",
       "    </tr>\n",
       "    <tr>\n",
       "      <th>2</th>\n",
       "      <td>国际</td>\n",
       "      <td>悠仁：日本明仁天皇孙辈唯一男丁堪称“独苗”，将来可能继位</td>\n",
       "      <td>[悠仁, 日本, 明, 仁天皇, 孙辈, 唯一, 男丁, 堪称, 独苗, 将来, 可能, 继位]</td>\n",
       "      <td>[a, ns, a, nr, nr, n, b, n, v, n, t, v, v]</td>\n",
       "      <td>6</td>\n",
       "      <td>3</td>\n",
       "      <td>2</td>\n",
       "      <td>12</td>\n",
       "    </tr>\n",
       "    <tr>\n",
       "      <th>3</th>\n",
       "      <td>娱乐</td>\n",
       "      <td>被意大利炮干掉的阿部规秀到底是个什么官？</td>\n",
       "      <td>[被, 意大利, 炮, 干掉, 阿部规秀, 到底, 是, 个, 什么, 官]</td>\n",
       "      <td>[p, ns, n, v, nr, d, v, q, r, n]</td>\n",
       "      <td>4</td>\n",
       "      <td>2</td>\n",
       "      <td>0</td>\n",
       "      <td>10</td>\n",
       "    </tr>\n",
       "    <tr>\n",
       "      <th>4</th>\n",
       "      <td>财经</td>\n",
       "      <td>公司亏损时，股东如何维护自己的利益？</td>\n",
       "      <td>[公司, 亏损, 时, 股东, 如何, 维护, 自己, 利益]</td>\n",
       "      <td>[n, vn, n, n, r, v, r, n]</td>\n",
       "      <td>5</td>\n",
       "      <td>2</td>\n",
       "      <td>0</td>\n",
       "      <td>8</td>\n",
       "    </tr>\n",
       "  </tbody>\n",
       "</table>\n",
       "</div>"
      ],
      "text/plain": [
       "  类别名字                            文本数据  \\\n",
       "0   娱乐  黎明喜当爹满面春风，乐基儿发福成大妈！离婚后两人差距这么大？   \n",
       "1   旅游  亚洲排名第一都市，北京GDP不及它一半，上海10年都赶超不了   \n",
       "2   国际    悠仁：日本明仁天皇孙辈唯一男丁堪称“独苗”，将来可能继位   \n",
       "3   娱乐            被意大利炮干掉的阿部规秀到底是个什么官？   \n",
       "4   财经              公司亏损时，股东如何维护自己的利益？   \n",
       "\n",
       "                                              分词后的数据  \\\n",
       "0     [黎明, 喜当爹, 满面春风, 乐基儿, 发福, 成, 大妈, 离婚, 两人, 差距, 大]   \n",
       "1  [亚洲, 排名, 第一, 都市, 北京, GDP, 不及, 它, 一半, 上海, 10, 年...   \n",
       "2   [悠仁, 日本, 明, 仁天皇, 孙辈, 唯一, 男丁, 堪称, 独苗, 将来, 可能, 继位]   \n",
       "3             [被, 意大利, 炮, 干掉, 阿部规秀, 到底, 是, 个, 什么, 官]   \n",
       "4                    [公司, 亏损, 时, 股东, 如何, 维护, 自己, 利益]   \n",
       "\n",
       "                                                词性信息  名词数量  动词数量  形容词数量  长度  \n",
       "0        [nr, v, n, nz, nr, vn, n, n, v, m, n, n, a]     9     3      1  11  \n",
       "1  [ns, v, m, ns, ns, eng, c, r, m, ns, m, m, d, ...     5     3      0  15  \n",
       "2         [a, ns, a, nr, nr, n, b, n, v, n, t, v, v]     6     3      2  12  \n",
       "3                   [p, ns, n, v, nr, d, v, q, r, n]     4     2      0  10  \n",
       "4                          [n, vn, n, n, r, v, r, n]     5     2      0   8  "
      ]
     },
     "execution_count": 15,
     "metadata": {},
     "output_type": "execute_result"
    }
   ],
   "source": [
    "def length(data):\n",
    "    return len(data)\n",
    "data[\"长度\"] = data[\"分词后的数据\"].apply(length)\n",
    "data.head()"
   ]
  },
  {
   "cell_type": "code",
   "execution_count": 16,
   "metadata": {},
   "outputs": [
    {
     "data": {
      "image/png": "[encoded data removed]",
      "text/plain": [
       "<Figure size 432x288 with 1 Axes>"
      ]
     },
     "metadata": {
      "needs_background": "light"
     },
     "output_type": "display_data"
    }
   ],
   "source": [
    "data[\"长度\"].hist(bins=22)\n",
    "plt.show()"
   ]
  },
  {
   "cell_type": "code",
   "execution_count": 17,
   "metadata": {},
   "outputs": [
    {
     "data": {
      "text/plain": [
       "count    2000.000000\n",
       "mean       10.278000\n",
       "std         3.515664\n",
       "min         1.000000\n",
       "25%         8.000000\n",
       "50%        10.000000\n",
       "75%        13.000000\n",
       "max        22.000000\n",
       "Name: 长度, dtype: float64"
      ]
     },
     "execution_count": 17,
     "metadata": {},
     "output_type": "execute_result"
    }
   ],
   "source": [
    "data[\"长度\"].describe()"
   ]
  },
  {
   "cell_type": "code",
   "execution_count": 18,
   "metadata": {},
   "outputs": [
    {
     "data": {
      "text/plain": [
       "<matplotlib.axes._subplots.AxesSubplot at 0x1a1cc15da0>"
      ]
     },
     "execution_count": 18,
     "metadata": {},
     "output_type": "execute_result"
    },
    {
     "data": {
      "image/png": "[encoded data removed]",
      "text/plain": [
       "<Figure size 7200x432 with 1 Axes>"
      ]
     },
     "metadata": {
      "needs_background": "light"
     },
     "output_type": "display_data"
    }
   ],
   "source": [
    "data_groupby = data.groupby([\"类别名字\",\"长度\"])[\"长度\"].count()\n",
    "data_groupby.unstack(\"长度\").plot.bar(stacked = False,figsize=(100,6))"
   ]
  },
  {
   "cell_type": "code",
   "execution_count": 19,
   "metadata": {},
   "outputs": [
    {
     "data": {
      "image/png": "[encoded data removed]",
      "text/plain": [
       "<Figure size 432x288 with 1 Axes>"
      ]
     },
     "metadata": {
      "needs_background": "light"
     },
     "output_type": "display_data"
    }
   ],
   "source": [
    "data.boxplot(column=['长度'])\n",
    "plt.show()"
   ]
  },
  {
   "cell_type": "code",
   "execution_count": 20,
   "metadata": {},
   "outputs": [
    {
     "data": {
      "text/plain": [
       "count    2000.000000\n",
       "mean       10.278000\n",
       "std         3.515664\n",
       "min         1.000000\n",
       "25%         8.000000\n",
       "50%        10.000000\n",
       "75%        13.000000\n",
       "max        22.000000\n",
       "Name: 长度, dtype: float64"
      ]
     },
     "execution_count": 20,
     "metadata": {},
     "output_type": "execute_result"
    }
   ],
   "source": [
    "data[\"长度\"].describe()"
   ]
  },
  {
   "cell_type": "code",
   "execution_count": null,
   "metadata": {},
   "outputs": [],
   "source": []
  },
  {
   "cell_type": "code",
   "execution_count": null,
   "metadata": {},
   "outputs": [],
   "source": []
  }
 ],
 "metadata": {
  "kernelspec": {
   "display_name": "Python 3",
   "language": "python",
   "name": "python3"
  },
  "language_info": {
   "codemirror_mode": {
    "name": "ipython",
    "version": 3
   },
   "file_extension": ".py",
   "mimetype": "text/x-python",
   "name": "python",
   "nbconvert_exporter": "python",
   "pygments_lexer": "ipython3",
   "version": "3.7.3"
  }
 },
 "nbformat": 4,
 "nbformat_minor": 2
}
